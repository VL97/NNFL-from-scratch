{
 "cells": [
  {
   "cell_type": "code",
   "execution_count": 1,
   "metadata": {},
   "outputs": [],
   "source": [
    "import numpy as np\n",
    "import pandas as pd\n",
    "import matplotlib.pyplot as plt\n",
    "from sklearn.datasets import make_classification\n",
    "from sklearn.model_selection import train_test_split\n",
    "from sklearn.metrics import precision_recall_fscore_support, accuracy_score"
   ]
  },
  {
   "cell_type": "markdown",
   "metadata": {},
   "source": [
    "# Perceptron class"
   ]
  },
  {
   "cell_type": "code",
   "execution_count": 2,
   "metadata": {},
   "outputs": [],
   "source": [
    "class Perceptron:\n",
    "    \n",
    "    def __init__(self,n):\n",
    "        '''\n",
    "        Creates a single n+1 dimensional input perceptron.\n",
    "        '''        \n",
    "        #Initialize weights randomly\n",
    "        self.weights = np.random.normal(scale=0.1, size=n+1)\n",
    "        self.inputs_y = np.zeros(n+1)\n",
    "        #Set the input corrresponding to bias as 1\n",
    "        self.inputs_y[0] = 1                    \n",
    "        print('Perceptron initialized with',n+1,'weights (including bias) and inputs')\n",
    "        \n",
    "    def calculate_activation(self):  \n",
    "        '''\n",
    "        Calculates the sigmoid activation output of Perceptron.\n",
    "        '''        \n",
    "        self.sum = np.dot(self.weights, self.inputs_y)\n",
    "        self.output_y = 1/(1+np.exp(-self.sum))\n",
    "        return self.output_y        \n",
    "        \n",
    "    def set_inputs(self, inpt):   \n",
    "        '''\n",
    "        Set input for a single datasample.\n",
    "        '''\n",
    "        self.inputs_y[1:] = np.asarray(inpt)\n",
    "        \n",
    "    def set_target(self, trgt):\n",
    "        '''\n",
    "        Set the corresponding label/target for the datasample whose input was set.\n",
    "        '''        \n",
    "        self.target = trgt\n",
    "        \n",
    "    def update_weights_perceptron_Rule(self):\n",
    "        '''\n",
    "        Updates weights using the Unified Perceptron Rule.\n",
    "        '''        \n",
    "        if(self.calculate_activation()>=0.5):\n",
    "            self.weights = self.weights + (self.target-1)*self.inputs_y\n",
    "        else:\n",
    "            self.weights = self.weights + (self.target)*self.inputs_y\n",
    "            \n",
    "    def update_weights_SGD(self,lr):\n",
    "        '''\n",
    "        Updates weights using Stochastic Gradiend Descent ie SGD algorithm.\n",
    "        '''        \n",
    "        p = self.calculate_activation()        \n",
    "        self.weights = self.weights - lr*p*(1-p)*(p-self.target)*self.inputs_y       \n",
    "            \n",
    "    def getWeights(self):\n",
    "        '''\n",
    "        Returns the present weights (and bias) of the Perceptron.\n",
    "        '''\n",
    "        return self.weights  \n",
    "    \n",
    "    def trainPerceptron(self,inputs,labels,epochs,lr=0.1,rule='perceptron'): \n",
    "        '''\n",
    "        Trains perceptron on multiple datasamples given in [inputs] using corresponding\n",
    "        target [labels] for [epochs] epochs. [rule] can be 'perceptron' or 'SGD'.\n",
    "        [lr] is the lr to be used for weight updates using SGD rule. Default values of lr=0.1\n",
    "        and rule used is 'perceptron'.\n",
    "        '''\n",
    "        total_train_data = labels.shape[0]\n",
    "        train_acc = []\n",
    "        epoch=1\n",
    "        while(epoch<=epochs):            \n",
    "            correct_classfied = 0            \n",
    "            for i in range(total_train_data):\n",
    "                self.set_inputs(inputs[i])\n",
    "                self.set_target(labels[i])\n",
    "                out = self.calculate_activation()\n",
    "                \n",
    "                #Assign a class based on threshold\n",
    "                if(out>=0.5):\n",
    "                    out=1\n",
    "                else:\n",
    "                    out=0\n",
    "                \n",
    "                #see if class prediction is correct\n",
    "                if(out==labels[i]):\n",
    "                    correct_classfied +=1\n",
    "                    \n",
    "                #weight updation using Perceptron rule or SGD\n",
    "                if(rule=='perceptron'):\n",
    "                    self.update_weights_perceptron_Rule()\n",
    "                else:\n",
    "                    self.update_weights_SGD(lr)\n",
    "                \n",
    "            #Print the training accuracy for the epoch just completed\n",
    "            #ie correctly-classified-train-datasamples over total-train-samples\n",
    "            train_accuracy = correct_classfied/total_train_data\n",
    "            print(\"epoch\",epoch, \"training accuracy\",train_accuracy)\n",
    "            train_acc.append(train_accuracy)\n",
    "            epoch+=1\n",
    "        \n",
    "        return train_acc\n",
    "        \n",
    "    def testPerceptron(self, testdata):\n",
    "        '''\n",
    "        Test the Perceptron on [testdata] dataset and gives the \n",
    "        prediction vector.\n",
    "        '''\n",
    "        result = np.empty(0,dtype='int')\n",
    "        for i in testdata:\n",
    "            self.set_inputs(i)\n",
    "            out = self.calculate_activation()\n",
    "            if(out>=0.5):\n",
    "                result = np.append(result,1)\n",
    "            else:\n",
    "                result = np.append(result,0)\n",
    "        return result"
   ]
  },
  {
   "cell_type": "markdown",
   "metadata": {},
   "source": [
    "# Random dataset"
   ]
  },
  {
   "cell_type": "code",
   "execution_count": 3,
   "metadata": {},
   "outputs": [
    {
     "name": "stdout",
     "output_type": "stream",
     "text": [
      "(100, 20)\n",
      "(100,)\n"
     ]
    }
   ],
   "source": [
    "x,y = make_classification(n_samples = 100, random_state = 9)\n",
    "print(x.shape)\n",
    "print(y.shape)"
   ]
  },
  {
   "cell_type": "code",
   "execution_count": 4,
   "metadata": {},
   "outputs": [],
   "source": [
    "data_train, data_test, target_train, target_test = train_test_split(x,y,test_size = 0.2 ,random_state = 42) "
   ]
  },
  {
   "cell_type": "markdown",
   "metadata": {},
   "source": [
    "# Learning via Perceptron Rule"
   ]
  },
  {
   "cell_type": "code",
   "execution_count": 5,
   "metadata": {},
   "outputs": [
    {
     "name": "stdout",
     "output_type": "stream",
     "text": [
      "Perceptron initialized with 21 weights (including bias) and inputs\n",
      "epoch 1 training accuracy 0.8125\n",
      "epoch 2 training accuracy 0.85\n",
      "epoch 3 training accuracy 0.875\n",
      "epoch 4 training accuracy 0.85\n",
      "epoch 5 training accuracy 0.8625\n",
      "epoch 6 training accuracy 0.9\n",
      "epoch 7 training accuracy 0.9\n",
      "epoch 8 training accuracy 0.85\n",
      "epoch 9 training accuracy 0.9125\n",
      "epoch 10 training accuracy 0.8875\n",
      "epoch 11 training accuracy 0.925\n",
      "epoch 12 training accuracy 0.9125\n",
      "epoch 13 training accuracy 0.9125\n",
      "epoch 14 training accuracy 0.9375\n",
      "epoch 15 training accuracy 0.925\n",
      "epoch 16 training accuracy 0.925\n",
      "epoch 17 training accuracy 0.9125\n",
      "epoch 18 training accuracy 0.9125\n",
      "epoch 19 training accuracy 0.975\n",
      "epoch 20 training accuracy 0.9\n"
     ]
    }
   ],
   "source": [
    "P = Perceptron(data_train.shape[1])\n",
    "t1 = P.trainPerceptron(data_train, target_train, 20)   "
   ]
  },
  {
   "cell_type": "code",
   "execution_count": 6,
   "metadata": {},
   "outputs": [
    {
     "name": "stdout",
     "output_type": "stream",
     "text": [
      "Accuracy  0.8\n",
      "Precision for class 0  0.7692307692307693\n",
      "Precision for class 1  0.8571428571428571\n"
     ]
    }
   ],
   "source": [
    "res = P.testPerceptron(data_test)\n",
    "print(\"Accuracy \",accuracy_score(target_test, res))\n",
    "print(\"Precision for class 0 \",precision_recall_fscore_support(target_test, res) [1][0])\n",
    "print(\"Precision for class 1 \",precision_recall_fscore_support(target_test, res) [1][1])"
   ]
  },
  {
   "cell_type": "markdown",
   "metadata": {},
   "source": [
    "# Learning via SGD rule"
   ]
  },
  {
   "cell_type": "code",
   "execution_count": 7,
   "metadata": {},
   "outputs": [
    {
     "name": "stdout",
     "output_type": "stream",
     "text": [
      "Perceptron initialized with 21 weights (including bias) and inputs\n",
      "epoch 1 training accuracy 0.725\n",
      "epoch 2 training accuracy 0.825\n",
      "epoch 3 training accuracy 0.8375\n",
      "epoch 4 training accuracy 0.875\n",
      "epoch 5 training accuracy 0.875\n",
      "epoch 6 training accuracy 0.9\n",
      "epoch 7 training accuracy 0.9\n",
      "epoch 8 training accuracy 0.8875\n",
      "epoch 9 training accuracy 0.8875\n",
      "epoch 10 training accuracy 0.9\n",
      "epoch 11 training accuracy 0.9\n",
      "epoch 12 training accuracy 0.9125\n",
      "epoch 13 training accuracy 0.9125\n",
      "epoch 14 training accuracy 0.9125\n",
      "epoch 15 training accuracy 0.9125\n",
      "epoch 16 training accuracy 0.925\n",
      "epoch 17 training accuracy 0.925\n",
      "epoch 18 training accuracy 0.925\n",
      "epoch 19 training accuracy 0.925\n",
      "epoch 20 training accuracy 0.925\n"
     ]
    }
   ],
   "source": [
    "P = Perceptron(data_train.shape[1])\n",
    "t2 = P.trainPerceptron(data_train, target_train, 20, lr=0.01, rule='SGD')   "
   ]
  },
  {
   "cell_type": "code",
   "execution_count": 8,
   "metadata": {},
   "outputs": [
    {
     "name": "stdout",
     "output_type": "stream",
     "text": [
      "Accuracy  0.95\n",
      "Precision for class 0  0.9230769230769231\n",
      "Precision for class 1  1.0\n"
     ]
    }
   ],
   "source": [
    "res = P.testPerceptron(data_test)\n",
    "print(\"Accuracy \",accuracy_score(target_test, res))\n",
    "print(\"Precision for class 0 \",precision_recall_fscore_support(target_test, res) [1][0])\n",
    "print(\"Precision for class 1 \",precision_recall_fscore_support(target_test, res) [1][1])"
   ]
  },
  {
   "cell_type": "markdown",
   "metadata": {},
   "source": [
    "# Comparison"
   ]
  },
  {
   "cell_type": "code",
   "execution_count": 9,
   "metadata": {},
   "outputs": [
    {
     "data": {
      "text/plain": [
       "<matplotlib.legend.Legend at 0x1f036748f60>"
      ]
     },
     "execution_count": 9,
     "metadata": {},
     "output_type": "execute_result"
    },
    {
     "data": {
      "image/png": "[encoded data removed]",
      "text/plain": [
       "<Figure size 432x288 with 1 Axes>"
      ]
     },
     "metadata": {
      "needs_background": "light"
     },
     "output_type": "display_data"
    }
   ],
   "source": [
    "plt.plot(t1, label = \"Perceptron Rule\")\n",
    "plt.plot(t2, label = \"SGD\")\n",
    "plt.xlabel(\"Training data epoch\")\n",
    "plt.ylabel(\"Train accuracy\")\n",
    "plt.legend()"
   ]
  }
 ],
 "metadata": {
  "kernelspec": {
   "display_name": "Python 3",
   "language": "python",
   "name": "python3"
  },
  "language_info": {
   "codemirror_mode": {
    "name": "ipython",
    "version": 3
   },
   "file_extension": ".py",
   "mimetype": "text/x-python",
   "name": "python",
   "nbconvert_exporter": "python",
   "pygments_lexer": "ipython3",
   "version": "3.7.3"
  }
 },
 "nbformat": 4,
 "nbformat_minor": 2
}
